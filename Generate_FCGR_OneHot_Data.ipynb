{
 "cells": [
  {
   "cell_type": "code",
   "execution_count": 35,
   "id": "a3e873d1-343c-421d-bee8-f2eafa9476b7",
   "metadata": {},
   "outputs": [],
   "source": [
    "import pandas as pd\n",
    "import numpy as np\n",
    "from pathlib import Path\n",
    "import re\n",
    "from collections import defaultdict\n",
    "import pyfastx\n",
    "import numpy as np\n",
    "from sklearn.model_selection import train_test_split\n",
    "from numpy import array\n",
    "from sklearn.preprocessing import LabelEncoder\n",
    "from sklearn.preprocessing import OneHotEncoder\n",
    "from sklearn.utils import resample\n",
    "import math\n",
    "from window_slider import Slider\n",
    "from Bio.Seq import Seq\n",
    "from complexcgr import FCGR"
   ]
  },
  {
   "cell_type": "code",
   "execution_count": 36,
   "id": "1b59abab-56d1-4294-bdbf-5eee7789a3eb",
   "metadata": {},
   "outputs": [],
   "source": [
    "def make_cgr(x, D=6):\n",
    "\n",
    "   \n",
    "    fcgr = FCGR(k=D)\n",
    "   \n",
    "    seqs = []\n",
    "    for seq in x:\n",
    "   \n",
    "        tmp = seq.transpose()\n",
    "        padding = np.sum(tmp, axis=1)\n",
    "        padding = padding > 0\n",
    "        \n",
    "        tmp = tmp[padding, :]\n",
    "   \n",
    "        tmp = np.argmax(tmp, axis = 1)\n",
    "   \n",
    "        tmp = np.where(tmp == 0, \"A\", tmp)\n",
    "        tmp = np.where(tmp == \"1\", \"C\", tmp)\n",
    "        tmp = np.where(tmp == \"2\", \"G\", tmp)\n",
    "        tmp = np.where(tmp == \"3\", \"T\", tmp)\n",
    "        tmp = np.where(tmp == \"4\", \"N\", tmp)\n",
    "   \n",
    "        tmp = \"\".join(tmp)\n",
    "       \n",
    "        tmp = fcgr(tmp)\n",
    "\n",
    "        max_sz = 4**D\n",
    "        fcgr_sum = np.sum(tmp)\n",
    "       \n",
    "        tmp = tmp / fcgr_sum\n",
    "        tmp = tmp * max_sz\n",
    "   \n",
    "        seqs.append(tmp)\n",
    "\n",
    "    seqs = np.asarray(seqs)\n",
    "\n",
    "    return seqs"
   ]
  },
  {
   "cell_type": "code",
   "execution_count": 37,
   "id": "73cdbaf9-2de5-4f96-a4fe-5dff6feb30c3",
   "metadata": {},
   "outputs": [],
   "source": [
    "gisaid_fa = pyfastx.Fasta('/home/hnguyen/Documents/PhD/IAV_Data/GISAID/data/gisaid.fasta', build_index=True)\n",
    "# Create seq id dict\n",
    "gisaid_seq_id_dict = defaultdict()\n",
    "for seq in gisaid_fa:\n",
    "    seq_id = seq.name.split('|')[0]\n",
    "    gisaid_seq_id_dict[seq_id] = seq.name"
   ]
  },
  {
   "cell_type": "markdown",
   "id": "7d10e650-bc19-460b-adbe-da9852f1b102",
   "metadata": {},
   "source": [
    "## Onehot and FCGR encoding for RNA Sequences"
   ]
  },
  {
   "cell_type": "code",
   "execution_count": 38,
   "id": "2a036d8d-ee27-41e2-b219-7428b60a079d",
   "metadata": {},
   "outputs": [],
   "source": [
    "nucleotide = ['A', 'C', 'G', 'T']\n",
    "nc_dict = {}\n",
    "for i, aa in enumerate(nucleotide):\n",
    "    nc_dict[aa] = i"
   ]
  },
  {
   "cell_type": "code",
   "execution_count": 39,
   "id": "1cd2ea4e-87a5-4697-bff7-0e4c7ee8cc83",
   "metadata": {},
   "outputs": [],
   "source": [
    "def get_onehot_encoding(df, nc_dict, segment_id, max_length, rev_com_id):\n",
    "    df = df.reset_index(drop=True)\n",
    "    for index, row in df.iterrows():\n",
    "        seq_id = gisaid_seq_id_dict[row[segment_id]]\n",
    "        sequence = Seq(gisaid_fa[seq_id].seq.upper())\n",
    "        if row[segment_id] in rev_com_id:\n",
    "            print (row[segment_id])\n",
    "            sequence = sequence.reverse_complement()\n",
    "        tmp = np.zeros((1, len(nc_dict)+1, max_length), dtype=np.float32)\n",
    "        for i, seq in enumerate(sequence):\n",
    "            if seq == 'A' or seq == 'C' or seq == 'G' or seq == 'T':\n",
    "                tmp[:, nc_dict[seq], i] = 1.0\n",
    "            else: # any ambiguous bases\n",
    "                tmp[:, 4, i] = 1.0\n",
    "        if index == 0:\n",
    "            final_array = tmp\n",
    "        else:\n",
    "            final_array = np.vstack((final_array, tmp))\n",
    "    return final_array"
   ]
  },
  {
   "cell_type": "code",
   "execution_count": 40,
   "id": "6284bcbd-4a82-4299-8ecb-94fccf621926",
   "metadata": {},
   "outputs": [],
   "source": [
    "def get_onehot_chunk(df, nc_dict, segment_id, max_length, rev_com_id, bucket_size=5000):\n",
    "    list = np.arange(df.shape[0])\n",
    "    bucket_size = bucket_size\n",
    "    overlap_count = 0\n",
    "    slider = Slider(bucket_size,overlap_count)\n",
    "    slider.fit(list)   \n",
    "    one_hot_array = []\n",
    "    while True:\n",
    "        window_data = slider.slide()\n",
    "        tmp_df = df.iloc[window_data]\n",
    "        print (tmp_df.index)\n",
    "        one_hot = get_onehot_encoding(tmp_df, nc_dict, segment_id, max_length, rev_com_id)\n",
    "        one_hot_array.append(one_hot)\n",
    "        if slider.reached_end_of_list(): break\n",
    "    return one_hot_array"
   ]
  },
  {
   "cell_type": "code",
   "execution_count": 41,
   "id": "8282a50d-8494-44f6-a11a-08b50abacbcc",
   "metadata": {},
   "outputs": [],
   "source": [
    "# Example rev seq\n",
    "rev_com_id = ['EPI2040903', 'EPI2647172', 'EPI541968', 'EPI24822', 'EPI2097991',\n",
    "       'EPI2097998', 'EPI2098034', 'EPI2098042', 'EPI2098048',\n",
    "       'EPI2098071', 'EPI2098091', 'EPI2098098', 'EPI2098104',\n",
    "       'EPI2098144', 'EPI2098152', 'EPI2098176', 'EPI2098183',\n",
    "       'EPI2098191', 'EPI2098205', 'EPI2098213', 'EPI2098239',\n",
    "       'EPI2098247', 'EPI2098263', 'EPI2098287', 'EPI2098299',\n",
    "       'EPI2098307', 'EPI2098350', 'EPI2098365', 'EPI2195589',\n",
    "       'EPI2842840', 'EPI2555843', 'EPI2434733', 'EPI2434734',\n",
    "       'EPI2570421', 'EPI2842207', 'EPI2842251', 'EPI2806788',\n",
    "       'EPI2841497', 'EPI2841509', 'EPI2545628', 'EPI2545984',\n",
    "       'EPI2806682', 'EPI2806671']"
   ]
  },
  {
   "cell_type": "code",
   "execution_count": 42,
   "id": "c5add9f8-5c7a-4e28-b8b1-78573a9a53a3",
   "metadata": {},
   "outputs": [],
   "source": [
    "df_train = pd.read_csv('train.csv')"
   ]
  },
  {
   "cell_type": "code",
   "execution_count": 43,
   "id": "74071688-5037-4cb7-bbce-8bdc69252b22",
   "metadata": {},
   "outputs": [
    {
     "data": {
      "text/plain": [
       "(99, 41)"
      ]
     },
     "execution_count": 43,
     "metadata": {},
     "output_type": "execute_result"
    }
   ],
   "source": [
    "df_train.shape"
   ]
  },
  {
   "cell_type": "code",
   "execution_count": 44,
   "id": "0c8e79e0-8bc9-4859-8d57-61e6090b3c03",
   "metadata": {},
   "outputs": [],
   "source": [
    "df_train = df_train.reset_index(drop=True)"
   ]
  },
  {
   "cell_type": "code",
   "execution_count": 45,
   "id": "fce88bdb-17af-4c1e-8ccb-7bcbd3a3ea60",
   "metadata": {},
   "outputs": [
    {
     "name": "stdout",
     "output_type": "stream",
     "text": [
      "Index([ 0,  1,  2,  3,  4,  5,  6,  7,  8,  9, 10, 11, 12, 13, 14, 15, 16, 17,\n",
      "       18, 19, 20, 21, 22, 23, 24, 25, 26, 27, 28, 29, 30, 31, 32, 33, 34, 35,\n",
      "       36, 37, 38, 39, 40, 41, 42, 43, 44, 45, 46, 47, 48, 49],\n",
      "      dtype='int64')\n",
      "Index([50, 51, 52, 53, 54, 55, 56, 57, 58, 59, 60, 61, 62, 63, 64, 65, 66, 67,\n",
      "       68, 69, 70, 71, 72, 73, 74, 75, 76, 77, 78, 79, 80, 81, 82, 83, 84, 85,\n",
      "       86, 87, 88, 89, 90, 91, 92, 93, 94, 95, 96, 97, 98],\n",
      "      dtype='int64')\n"
     ]
    }
   ],
   "source": [
    "X_train_onehot_array = get_onehot_chunk(df_train, nc_dict, '4_HA_ID', 2100, rev_com_id, bucket_size=50)"
   ]
  },
  {
   "cell_type": "code",
   "execution_count": 46,
   "id": "d44f43f1-7ddc-422c-bd5d-5eea88480bfd",
   "metadata": {},
   "outputs": [],
   "source": [
    "X_train_onehot = np.concatenate(X_train_onehot_array, axis=0)"
   ]
  },
  {
   "cell_type": "code",
   "execution_count": 47,
   "id": "05c365cf-4157-4365-b292-ccd2e8147530",
   "metadata": {},
   "outputs": [
    {
     "data": {
      "text/plain": [
       "(99, 5, 2100)"
      ]
     },
     "execution_count": 47,
     "metadata": {},
     "output_type": "execute_result"
    }
   ],
   "source": [
    "X_train_onehot.shape"
   ]
  },
  {
   "cell_type": "code",
   "execution_count": 48,
   "id": "3974fc9e-f7f0-45f6-b7cf-3b0580106ca1",
   "metadata": {},
   "outputs": [],
   "source": [
    "X_train_fcgr =  make_cgr(X_train_onehot, 6).astype(np.float32)"
   ]
  },
  {
   "cell_type": "code",
   "execution_count": 49,
   "id": "d2865ca6-7bd3-4b31-acee-b6c623942bc4",
   "metadata": {},
   "outputs": [
    {
     "data": {
      "text/plain": [
       "(99, 64, 64)"
      ]
     },
     "execution_count": 49,
     "metadata": {},
     "output_type": "execute_result"
    }
   ],
   "source": [
    "X_train_fcgr.shape"
   ]
  },
  {
   "cell_type": "code",
   "execution_count": 50,
   "id": "f20d175c-7825-4752-98e0-400f0f40f378",
   "metadata": {},
   "outputs": [
    {
     "data": {
      "text/plain": [
       "array([[0.       , 0.       , 0.       , ..., 7.2581215, 4.838748 ,\n",
       "        9.677496 ],\n",
       "       [0.       , 0.       , 0.       , ..., 4.838748 , 2.419374 ,\n",
       "        9.677496 ],\n",
       "       [0.       , 2.419374 , 0.       , ..., 2.419374 , 0.       ,\n",
       "        2.419374 ],\n",
       "       ...,\n",
       "       [0.       , 0.       , 2.419374 , ..., 0.       , 2.419374 ,\n",
       "        0.       ],\n",
       "       [0.       , 2.419374 , 2.419374 , ..., 2.419374 , 0.       ,\n",
       "        0.       ],\n",
       "       [2.419374 , 2.419374 , 2.419374 , ..., 2.419374 , 4.838748 ,\n",
       "        0.       ]], dtype=float32)"
      ]
     },
     "execution_count": 50,
     "metadata": {},
     "output_type": "execute_result"
    }
   ],
   "source": [
    "X_train_fcgr[0,:,:]"
   ]
  },
  {
   "cell_type": "markdown",
   "id": "4af4c69c-0f93-4016-a210-ceaab9ba1cc4",
   "metadata": {},
   "source": [
    "## Onehot encoding for protein sequence "
   ]
  },
  {
   "cell_type": "code",
   "execution_count": 51,
   "id": "f83abfc0-2f70-4aa9-a703-ef989ba65fd8",
   "metadata": {},
   "outputs": [],
   "source": [
    "aminos = ['A', 'C', 'D', 'E', 'F', 'G', 'H', 'I', 'K', 'L', 'M', 'N', 'P', 'Q', 'R', 'S', 'T', 'V', 'W', 'Y']\n",
    "aa_dict = {}\n",
    "for i, aa in enumerate(aminos):\n",
    "    aa_dict[aa] = i"
   ]
  },
  {
   "cell_type": "code",
   "execution_count": 52,
   "id": "d9012251-ee49-4ac3-9650-beac86a41939",
   "metadata": {},
   "outputs": [],
   "source": [
    "max_length = 585\n",
    "def get_onehot_encoding(df):\n",
    "    df = df.reset_index(drop=True)\n",
    "    for index, row in df.iterrows():\n",
    "        seq_id = gisaid_seq_id_dict[row['4_HA_ID']]\n",
    "        sequence = gisaid_protein_fa[seq_id].seq.upper()\n",
    "        tmp = np.zeros((1, len(aa_dict)+1, max_length), dtype=np.float32)\n",
    "        for i, seq in enumerate(sequence):\n",
    "            if seq in aminos:\n",
    "                tmp[:, aa_dict[seq], i] = 1.0\n",
    "            else: # any ambiguous bases\n",
    "                tmp[:, 20, i] = 1.0\n",
    "        if index == 0:\n",
    "            final_array = tmp\n",
    "        else:\n",
    "            final_array = np.vstack((final_array, tmp))\n",
    "    return final_array"
   ]
  },
  {
   "cell_type": "code",
   "execution_count": 53,
   "id": "a5271525-b51e-40af-8045-a679f5e9cb36",
   "metadata": {},
   "outputs": [],
   "source": [
    "def get_oneot_chunk(df, bucket_size=5000):\n",
    "    list = np.arange(df.shape[0])\n",
    "    bucket_size = bucket_size\n",
    "    overlap_count = 0\n",
    "    slider = Slider(bucket_size,overlap_count)\n",
    "    slider.fit(list)   \n",
    "    one_hot_array = []\n",
    "    while True:\n",
    "        window_data = slider.slide()\n",
    "        tmp_df = df.iloc[window_data]\n",
    "        print (tmp_df.index)\n",
    "        one_hot = get_onehot_encoding(tmp_df)\n",
    "        one_hot_array.append(one_hot)\n",
    "        if slider.reached_end_of_list(): break\n",
    "    return one_hot_array"
   ]
  },
  {
   "cell_type": "code",
   "execution_count": null,
   "id": "e1a3d8b3-abed-4e41-964e-a614f694100d",
   "metadata": {},
   "outputs": [],
   "source": []
  },
  {
   "cell_type": "code",
   "execution_count": null,
   "id": "d70be016-7157-4cdd-90f8-4b960c4399ce",
   "metadata": {},
   "outputs": [],
   "source": []
  }
 ],
 "metadata": {
  "kernelspec": {
   "display_name": "Python 3 (ipykernel)",
   "language": "python",
   "name": "python3"
  },
  "language_info": {
   "codemirror_mode": {
    "name": "ipython",
    "version": 3
   },
   "file_extension": ".py",
   "mimetype": "text/x-python",
   "name": "python",
   "nbconvert_exporter": "python",
   "pygments_lexer": "ipython3",
   "version": "3.12.4"
  }
 },
 "nbformat": 4,
 "nbformat_minor": 5
}
